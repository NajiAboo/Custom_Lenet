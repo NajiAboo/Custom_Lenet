{
 "cells": [
  {
   "cell_type": "code",
   "execution_count": 1,
   "metadata": {},
   "outputs": [],
   "source": [
    "import numpy as np"
   ]
  },
  {
   "cell_type": "code",
   "execution_count": 2,
   "metadata": {},
   "outputs": [],
   "source": [
    "import keras\n",
    "from keras.datasets import mnist\n",
    "from keras.layers import Conv2D, MaxPool2D\n",
    "from keras.layers import Dense, Flatten\n",
    "from keras.models import Sequential"
   ]
  },
  {
   "cell_type": "code",
   "execution_count": 3,
   "metadata": {},
   "outputs": [],
   "source": [
    "(x_train, y_train),(x_test, y_test) = mnist.load_data()"
   ]
  },
  {
   "cell_type": "code",
   "execution_count": 4,
   "metadata": {},
   "outputs": [],
   "source": [
    "x_train = x_train.reshape(x_train.shape[0], 28,28,1)\n",
    "x_test = x_test.reshape(x_test.shape[0], 28,28,1)"
   ]
  },
  {
   "cell_type": "code",
   "execution_count": 5,
   "metadata": {},
   "outputs": [],
   "source": [
    "x_train = x_train /255\n",
    "x_test = x_test/255"
   ]
  },
  {
   "cell_type": "code",
   "execution_count": 6,
   "metadata": {},
   "outputs": [],
   "source": [
    "y_train = keras.utils.to_categorical(y_train,10)\n",
    "y_test = keras.utils.to_categorical(y_test, 10)"
   ]
  },
  {
   "cell_type": "code",
   "execution_count": 7,
   "metadata": {},
   "outputs": [
    {
     "data": {
      "text/plain": [
       "array([[0., 0., 0., ..., 0., 0., 0.],\n",
       "       [1., 0., 0., ..., 0., 0., 0.],\n",
       "       [0., 0., 0., ..., 0., 0., 0.],\n",
       "       ...,\n",
       "       [0., 0., 0., ..., 0., 0., 0.],\n",
       "       [0., 0., 0., ..., 0., 0., 0.],\n",
       "       [0., 0., 0., ..., 0., 1., 0.]], dtype=float32)"
      ]
     },
     "execution_count": 7,
     "metadata": {},
     "output_type": "execute_result"
    }
   ],
   "source": [
    "y_train"
   ]
  },
  {
   "cell_type": "code",
   "execution_count": 16,
   "metadata": {},
   "outputs": [],
   "source": [
    "model = Sequential()"
   ]
  },
  {
   "cell_type": "code",
   "execution_count": 19,
   "metadata": {},
   "outputs": [],
   "source": [
    "model.add(Conv2D(128, kernel_size=(3,3), activation='relu', input_shape=(28,28,1)))\n",
    "\n"
   ]
  },
  {
   "cell_type": "code",
   "execution_count": 20,
   "metadata": {},
   "outputs": [],
   "source": [
    "model.add(Conv2D(64, kernel_size=(3,3), activation='relu' ))\n",
    "model.add(MaxPool2D(pool_size=(2, 2)))\n",
    "\n",
    "model.add(Conv2D(32, kernel_size=(3, 3), activation='relu'))\n",
    "model.add(Conv2D(32, kernel_size=(3, 3), activation='relu'))\n",
    "model.add(MaxPool2D(pool_size=(2, 2)))\n"
   ]
  },
  {
   "cell_type": "code",
   "execution_count": 21,
   "metadata": {},
   "outputs": [],
   "source": [
    "model.add(Flatten())"
   ]
  },
  {
   "cell_type": "code",
   "execution_count": 22,
   "metadata": {},
   "outputs": [],
   "source": [
    "model.add(Dense(120, activation='relu'))\n",
    "model.add(Dense(96, activation='relu'))\n",
    "model.add(Dense(10, activation='softmax'))\n"
   ]
  },
  {
   "cell_type": "code",
   "execution_count": 23,
   "metadata": {},
   "outputs": [
    {
     "name": "stdout",
     "output_type": "stream",
     "text": [
      "Model: \"sequential_2\"\n",
      "_________________________________________________________________\n",
      "Layer (type)                 Output Shape              Param #   \n",
      "=================================================================\n",
      "conv2d_2 (Conv2D)            (None, 26, 26, 128)       1280      \n",
      "_________________________________________________________________\n",
      "conv2d_3 (Conv2D)            (None, 24, 24, 64)        73792     \n",
      "_________________________________________________________________\n",
      "conv2d_4 (Conv2D)            (None, 22, 22, 128)       73856     \n",
      "_________________________________________________________________\n",
      "conv2d_5 (Conv2D)            (None, 20, 20, 64)        73792     \n",
      "_________________________________________________________________\n",
      "max_pooling2d (MaxPooling2D) (None, 10, 10, 64)        0         \n",
      "_________________________________________________________________\n",
      "conv2d_6 (Conv2D)            (None, 8, 8, 32)          18464     \n",
      "_________________________________________________________________\n",
      "conv2d_7 (Conv2D)            (None, 6, 6, 32)          9248      \n",
      "_________________________________________________________________\n",
      "max_pooling2d_1 (MaxPooling2 (None, 3, 3, 32)          0         \n",
      "_________________________________________________________________\n",
      "flatten (Flatten)            (None, 288)               0         \n",
      "_________________________________________________________________\n",
      "dense (Dense)                (None, 120)               34680     \n",
      "_________________________________________________________________\n",
      "dense_1 (Dense)              (None, 96)                11616     \n",
      "_________________________________________________________________\n",
      "dense_2 (Dense)              (None, 10)                970       \n",
      "=================================================================\n",
      "Total params: 297,698\n",
      "Trainable params: 297,698\n",
      "Non-trainable params: 0\n",
      "_________________________________________________________________\n"
     ]
    }
   ],
   "source": [
    "model.summary()"
   ]
  },
  {
   "cell_type": "code",
   "execution_count": 24,
   "metadata": {},
   "outputs": [],
   "source": [
    "model.compile(loss=keras.metrics.categorical_crossentropy, optimizer=keras.optimizers.Adam(), metrics=['accuracy'])"
   ]
  },
  {
   "cell_type": "code",
   "execution_count": 25,
   "metadata": {},
   "outputs": [
    {
     "name": "stdout",
     "output_type": "stream",
     "text": [
      "Epoch 1/20\n",
      "469/469 [==============================] - 567s 1s/step - loss: 0.4787 - accuracy: 0.8436 - val_loss: 0.0610 - val_accuracy: 0.9808\n",
      "Epoch 2/20\n",
      "469/469 [==============================] - 545s 1s/step - loss: 0.0608 - accuracy: 0.9823 - val_loss: 0.0441 - val_accuracy: 0.9870\n",
      "Epoch 3/20\n",
      "469/469 [==============================] - 546s 1s/step - loss: 0.0390 - accuracy: 0.9881 - val_loss: 0.0485 - val_accuracy: 0.9840\n",
      "Epoch 4/20\n",
      "469/469 [==============================] - 543s 1s/step - loss: 0.0312 - accuracy: 0.9906 - val_loss: 0.0382 - val_accuracy: 0.9890\n",
      "Epoch 5/20\n",
      "469/469 [==============================] - 564s 1s/step - loss: 0.0261 - accuracy: 0.9913 - val_loss: 0.0306 - val_accuracy: 0.9894\n",
      "Epoch 6/20\n",
      "469/469 [==============================] - 629s 1s/step - loss: 0.0203 - accuracy: 0.9934 - val_loss: 0.0279 - val_accuracy: 0.9911\n",
      "Epoch 7/20\n",
      "469/469 [==============================] - 567s 1s/step - loss: 0.0199 - accuracy: 0.9936 - val_loss: 0.0321 - val_accuracy: 0.9907\n",
      "Epoch 8/20\n",
      "469/469 [==============================] - 552s 1s/step - loss: 0.0171 - accuracy: 0.9946 - val_loss: 0.0304 - val_accuracy: 0.9906\n",
      "Epoch 9/20\n",
      "469/469 [==============================] - 531s 1s/step - loss: 0.0140 - accuracy: 0.9953 - val_loss: 0.0296 - val_accuracy: 0.9913\n",
      "Epoch 10/20\n",
      "469/469 [==============================] - 698s 1s/step - loss: 0.0132 - accuracy: 0.9960 - val_loss: 0.0301 - val_accuracy: 0.9918\n",
      "Epoch 11/20\n",
      "469/469 [==============================] - 625s 1s/step - loss: 0.0111 - accuracy: 0.9961 - val_loss: 0.0288 - val_accuracy: 0.9913\n",
      "Epoch 12/20\n",
      "469/469 [==============================] - 496s 1s/step - loss: 0.0107 - accuracy: 0.9966 - val_loss: 0.0284 - val_accuracy: 0.9915\n",
      "Epoch 13/20\n",
      "469/469 [==============================] - 560s 1s/step - loss: 0.0102 - accuracy: 0.9969 - val_loss: 0.0356 - val_accuracy: 0.9900\n",
      "Epoch 14/20\n",
      "469/469 [==============================] - 563s 1s/step - loss: 0.0080 - accuracy: 0.9974 - val_loss: 0.0324 - val_accuracy: 0.9915\n",
      "Epoch 15/20\n",
      "469/469 [==============================] - 576s 1s/step - loss: 0.0080 - accuracy: 0.9973 - val_loss: 0.0379 - val_accuracy: 0.9907\n",
      "Epoch 16/20\n",
      "469/469 [==============================] - 552s 1s/step - loss: 0.0083 - accuracy: 0.9973 - val_loss: 0.0334 - val_accuracy: 0.9896\n",
      "Epoch 17/20\n",
      "469/469 [==============================] - 499s 1s/step - loss: 0.0063 - accuracy: 0.9980 - val_loss: 0.0312 - val_accuracy: 0.9914\n",
      "Epoch 18/20\n",
      "469/469 [==============================] - 501s 1s/step - loss: 0.0086 - accuracy: 0.9974 - val_loss: 0.0464 - val_accuracy: 0.9884\n",
      "Epoch 19/20\n",
      "469/469 [==============================] - 496s 1s/step - loss: 0.0089 - accuracy: 0.9968 - val_loss: 0.0374 - val_accuracy: 0.9913\n",
      "Epoch 20/20\n",
      "469/469 [==============================] - 499s 1s/step - loss: 0.0075 - accuracy: 0.9979 - val_loss: 0.0318 - val_accuracy: 0.9916\n"
     ]
    },
    {
     "data": {
      "text/plain": [
       "<tensorflow.python.keras.callbacks.History at 0x7f2242e8d7c0>"
      ]
     },
     "execution_count": 25,
     "metadata": {},
     "output_type": "execute_result"
    }
   ],
   "source": [
    "model.fit(x_train, y_train, batch_size=128, epochs=20, verbose=1, validation_data=(x_test, y_test))"
   ]
  },
  {
   "cell_type": "code",
   "execution_count": 28,
   "metadata": {},
   "outputs": [
    {
     "name": "stdout",
     "output_type": "stream",
     "text": [
      "INFO:tensorflow:Assets written to: lenet/assets\n"
     ]
    }
   ],
   "source": [
    "model.save('lenet')"
   ]
  },
  {
   "cell_type": "code",
   "execution_count": 29,
   "metadata": {},
   "outputs": [
    {
     "name": "stdout",
     "output_type": "stream",
     "text": [
      "313/313 [==============================] - 18s 59ms/step - loss: 0.0318 - accuracy: 0.9916\n",
      "Test Loss: 0.03184013441205025\n",
      "Test accuracy: 0.991599977016449\n"
     ]
    }
   ],
   "source": [
    "score = model.evaluate(x_test, y_test)\n",
    "print('Test Loss:', score[0])\n",
    "print('Test accuracy:', score[1])"
   ]
  },
  {
   "cell_type": "code",
   "execution_count": 30,
   "metadata": {},
   "outputs": [
    {
     "data": {
      "text/plain": [
       "array([[[[0.],\n",
       "         [0.],\n",
       "         [0.],\n",
       "         ...,\n",
       "         [0.],\n",
       "         [0.],\n",
       "         [0.]],\n",
       "\n",
       "        [[0.],\n",
       "         [0.],\n",
       "         [0.],\n",
       "         ...,\n",
       "         [0.],\n",
       "         [0.],\n",
       "         [0.]],\n",
       "\n",
       "        [[0.],\n",
       "         [0.],\n",
       "         [0.],\n",
       "         ...,\n",
       "         [0.],\n",
       "         [0.],\n",
       "         [0.]],\n",
       "\n",
       "        ...,\n",
       "\n",
       "        [[0.],\n",
       "         [0.],\n",
       "         [0.],\n",
       "         ...,\n",
       "         [0.],\n",
       "         [0.],\n",
       "         [0.]],\n",
       "\n",
       "        [[0.],\n",
       "         [0.],\n",
       "         [0.],\n",
       "         ...,\n",
       "         [0.],\n",
       "         [0.],\n",
       "         [0.]],\n",
       "\n",
       "        [[0.],\n",
       "         [0.],\n",
       "         [0.],\n",
       "         ...,\n",
       "         [0.],\n",
       "         [0.],\n",
       "         [0.]]],\n",
       "\n",
       "\n",
       "       [[[0.],\n",
       "         [0.],\n",
       "         [0.],\n",
       "         ...,\n",
       "         [0.],\n",
       "         [0.],\n",
       "         [0.]],\n",
       "\n",
       "        [[0.],\n",
       "         [0.],\n",
       "         [0.],\n",
       "         ...,\n",
       "         [0.],\n",
       "         [0.],\n",
       "         [0.]],\n",
       "\n",
       "        [[0.],\n",
       "         [0.],\n",
       "         [0.],\n",
       "         ...,\n",
       "         [0.],\n",
       "         [0.],\n",
       "         [0.]],\n",
       "\n",
       "        ...,\n",
       "\n",
       "        [[0.],\n",
       "         [0.],\n",
       "         [0.],\n",
       "         ...,\n",
       "         [0.],\n",
       "         [0.],\n",
       "         [0.]],\n",
       "\n",
       "        [[0.],\n",
       "         [0.],\n",
       "         [0.],\n",
       "         ...,\n",
       "         [0.],\n",
       "         [0.],\n",
       "         [0.]],\n",
       "\n",
       "        [[0.],\n",
       "         [0.],\n",
       "         [0.],\n",
       "         ...,\n",
       "         [0.],\n",
       "         [0.],\n",
       "         [0.]]],\n",
       "\n",
       "\n",
       "       [[[0.],\n",
       "         [0.],\n",
       "         [0.],\n",
       "         ...,\n",
       "         [0.],\n",
       "         [0.],\n",
       "         [0.]],\n",
       "\n",
       "        [[0.],\n",
       "         [0.],\n",
       "         [0.],\n",
       "         ...,\n",
       "         [0.],\n",
       "         [0.],\n",
       "         [0.]],\n",
       "\n",
       "        [[0.],\n",
       "         [0.],\n",
       "         [0.],\n",
       "         ...,\n",
       "         [0.],\n",
       "         [0.],\n",
       "         [0.]],\n",
       "\n",
       "        ...,\n",
       "\n",
       "        [[0.],\n",
       "         [0.],\n",
       "         [0.],\n",
       "         ...,\n",
       "         [0.],\n",
       "         [0.],\n",
       "         [0.]],\n",
       "\n",
       "        [[0.],\n",
       "         [0.],\n",
       "         [0.],\n",
       "         ...,\n",
       "         [0.],\n",
       "         [0.],\n",
       "         [0.]],\n",
       "\n",
       "        [[0.],\n",
       "         [0.],\n",
       "         [0.],\n",
       "         ...,\n",
       "         [0.],\n",
       "         [0.],\n",
       "         [0.]]],\n",
       "\n",
       "\n",
       "       ...,\n",
       "\n",
       "\n",
       "       [[[0.],\n",
       "         [0.],\n",
       "         [0.],\n",
       "         ...,\n",
       "         [0.],\n",
       "         [0.],\n",
       "         [0.]],\n",
       "\n",
       "        [[0.],\n",
       "         [0.],\n",
       "         [0.],\n",
       "         ...,\n",
       "         [0.],\n",
       "         [0.],\n",
       "         [0.]],\n",
       "\n",
       "        [[0.],\n",
       "         [0.],\n",
       "         [0.],\n",
       "         ...,\n",
       "         [0.],\n",
       "         [0.],\n",
       "         [0.]],\n",
       "\n",
       "        ...,\n",
       "\n",
       "        [[0.],\n",
       "         [0.],\n",
       "         [0.],\n",
       "         ...,\n",
       "         [0.],\n",
       "         [0.],\n",
       "         [0.]],\n",
       "\n",
       "        [[0.],\n",
       "         [0.],\n",
       "         [0.],\n",
       "         ...,\n",
       "         [0.],\n",
       "         [0.],\n",
       "         [0.]],\n",
       "\n",
       "        [[0.],\n",
       "         [0.],\n",
       "         [0.],\n",
       "         ...,\n",
       "         [0.],\n",
       "         [0.],\n",
       "         [0.]]],\n",
       "\n",
       "\n",
       "       [[[0.],\n",
       "         [0.],\n",
       "         [0.],\n",
       "         ...,\n",
       "         [0.],\n",
       "         [0.],\n",
       "         [0.]],\n",
       "\n",
       "        [[0.],\n",
       "         [0.],\n",
       "         [0.],\n",
       "         ...,\n",
       "         [0.],\n",
       "         [0.],\n",
       "         [0.]],\n",
       "\n",
       "        [[0.],\n",
       "         [0.],\n",
       "         [0.],\n",
       "         ...,\n",
       "         [0.],\n",
       "         [0.],\n",
       "         [0.]],\n",
       "\n",
       "        ...,\n",
       "\n",
       "        [[0.],\n",
       "         [0.],\n",
       "         [0.],\n",
       "         ...,\n",
       "         [0.],\n",
       "         [0.],\n",
       "         [0.]],\n",
       "\n",
       "        [[0.],\n",
       "         [0.],\n",
       "         [0.],\n",
       "         ...,\n",
       "         [0.],\n",
       "         [0.],\n",
       "         [0.]],\n",
       "\n",
       "        [[0.],\n",
       "         [0.],\n",
       "         [0.],\n",
       "         ...,\n",
       "         [0.],\n",
       "         [0.],\n",
       "         [0.]]],\n",
       "\n",
       "\n",
       "       [[[0.],\n",
       "         [0.],\n",
       "         [0.],\n",
       "         ...,\n",
       "         [0.],\n",
       "         [0.],\n",
       "         [0.]],\n",
       "\n",
       "        [[0.],\n",
       "         [0.],\n",
       "         [0.],\n",
       "         ...,\n",
       "         [0.],\n",
       "         [0.],\n",
       "         [0.]],\n",
       "\n",
       "        [[0.],\n",
       "         [0.],\n",
       "         [0.],\n",
       "         ...,\n",
       "         [0.],\n",
       "         [0.],\n",
       "         [0.]],\n",
       "\n",
       "        ...,\n",
       "\n",
       "        [[0.],\n",
       "         [0.],\n",
       "         [0.],\n",
       "         ...,\n",
       "         [0.],\n",
       "         [0.],\n",
       "         [0.]],\n",
       "\n",
       "        [[0.],\n",
       "         [0.],\n",
       "         [0.],\n",
       "         ...,\n",
       "         [0.],\n",
       "         [0.],\n",
       "         [0.]],\n",
       "\n",
       "        [[0.],\n",
       "         [0.],\n",
       "         [0.],\n",
       "         ...,\n",
       "         [0.],\n",
       "         [0.],\n",
       "         [0.]]]])"
      ]
     },
     "execution_count": 30,
     "metadata": {},
     "output_type": "execute_result"
    }
   ],
   "source": [
    "x_test"
   ]
  },
  {
   "cell_type": "code",
   "execution_count": 66,
   "metadata": {},
   "outputs": [],
   "source": [
    "import cv2"
   ]
  },
  {
   "cell_type": "code",
   "execution_count": 120,
   "metadata": {},
   "outputs": [],
   "source": [
    "p1 = cv2.imread('data/6.jpg', cv2.IMREAD_GRAYSCALE)"
   ]
  },
  {
   "cell_type": "code",
   "execution_count": 121,
   "metadata": {},
   "outputs": [],
   "source": [
    "import matplotlib.pyplot as plt"
   ]
  },
  {
   "cell_type": "code",
   "execution_count": 122,
   "metadata": {},
   "outputs": [
    {
     "data": {
      "text/plain": [
       "<matplotlib.image.AxesImage at 0x7f222d1b46d0>"
      ]
     },
     "execution_count": 122,
     "metadata": {},
     "output_type": "execute_result"
    },
    {
     "data": {
      "image/png": "[encoded data removed]",
      "text/plain": [
       "<Figure size 432x288 with 1 Axes>"
      ]
     },
     "metadata": {
      "needs_background": "light"
     },
     "output_type": "display_data"
    }
   ],
   "source": [
    "plt.imshow(p1)"
   ]
  },
  {
   "cell_type": "code",
   "execution_count": 123,
   "metadata": {},
   "outputs": [],
   "source": [
    "p1_resize = cv2.resize(p1, (28,28))"
   ]
  },
  {
   "cell_type": "code",
   "execution_count": 124,
   "metadata": {},
   "outputs": [
    {
     "data": {
      "text/plain": [
       "<matplotlib.image.AxesImage at 0x7f2235b33d30>"
      ]
     },
     "execution_count": 124,
     "metadata": {},
     "output_type": "execute_result"
    },
    {
     "data": {
      "image/png": "[encoded data removed]",
      "text/plain": [
       "<Figure size 432x288 with 1 Axes>"
      ]
     },
     "metadata": {
      "needs_background": "light"
     },
     "output_type": "display_data"
    }
   ],
   "source": [
    "plt.imshow(p1_resize)"
   ]
  },
  {
   "cell_type": "code",
   "execution_count": 125,
   "metadata": {},
   "outputs": [],
   "source": [
    "x_input = p1_resize/255.0"
   ]
  },
  {
   "cell_type": "code",
   "execution_count": 126,
   "metadata": {},
   "outputs": [
    {
     "data": {
      "text/plain": [
       "array([[0.68235294, 0.59607843, 0.47843137, 0.27058824, 0.27843137,\n",
       "        0.4745098 , 0.58823529, 0.61960784, 0.62745098, 0.63921569,\n",
       "        0.63921569, 0.63137255, 0.63137255, 0.63529412, 0.62352941,\n",
       "        0.62352941, 0.63137255, 0.6627451 , 0.63137255, 0.65490196,\n",
       "        0.64705882, 0.63529412, 0.61568627, 0.66666667, 0.65490196,\n",
       "        0.69019608, 0.64705882, 0.65098039],\n",
       "       [0.63921569, 0.61568627, 0.47843137, 0.24705882, 0.31764706,\n",
       "        0.47843137, 0.60392157, 0.61960784, 0.62352941, 0.6627451 ,\n",
       "        0.63529412, 0.64313725, 0.62352941, 0.63529412, 0.63921569,\n",
       "        0.65882353, 0.65882353, 0.63137255, 0.64313725, 0.63921569,\n",
       "        0.63921569, 0.64313725, 0.65882353, 0.65490196, 0.62745098,\n",
       "        0.66666667, 0.63921569, 0.65098039],\n",
       "       [0.6627451 , 0.61960784, 0.48235294, 0.25882353, 0.3372549 ,\n",
       "        0.50980392, 0.62745098, 0.63137255, 0.63137255, 0.63921569,\n",
       "        0.61568627, 0.63137255, 0.62745098, 0.62745098, 0.63137255,\n",
       "        0.64313725, 0.62745098, 0.6745098 , 0.63529412, 0.65490196,\n",
       "        0.64705882, 0.66666667, 0.64313725, 0.65098039, 0.64705882,\n",
       "        0.63921569, 0.65098039, 0.62745098],\n",
       "       [0.67058824, 0.59607843, 0.45490196, 0.2745098 , 0.32156863,\n",
       "        0.51372549, 0.62352941, 0.61960784, 0.59607843, 0.65098039,\n",
       "        0.64705882, 0.61960784, 0.63137255, 0.63921569, 0.62352941,\n",
       "        0.63921569, 0.65098039, 0.63921569, 0.62745098, 0.65098039,\n",
       "        0.64705882, 0.63921569, 0.64313725, 0.64313725, 0.61960784,\n",
       "        0.62352941, 0.64705882, 0.67058824],\n",
       "       [0.64705882, 0.59607843, 0.46666667, 0.2745098 , 0.33333333,\n",
       "        0.47843137, 0.57254902, 0.63921569, 0.63529412, 0.64705882,\n",
       "        0.64705882, 0.63137255, 0.60392157, 0.62352941, 0.64313725,\n",
       "        0.63921569, 0.63529412, 0.64705882, 0.63921569, 0.63921569,\n",
       "        0.64705882, 0.63921569, 0.61960784, 0.63529412, 0.64705882,\n",
       "        0.61960784, 0.65098039, 0.64313725],\n",
       "       [0.62352941, 0.61176471, 0.45098039, 0.23137255, 0.33333333,\n",
       "        0.49019608, 0.61176471, 0.62352941, 0.62352941, 0.63137255,\n",
       "        0.64705882, 0.61960784, 0.64705882, 0.63921569, 0.63921569,\n",
       "        0.64705882, 0.62745098, 0.63921569, 0.65490196, 0.64313725,\n",
       "        0.6627451 , 0.63921569, 0.65098039, 0.63137255, 0.63137255,\n",
       "        0.6627451 , 0.63137255, 0.61568627],\n",
       "       [0.64705882, 0.58823529, 0.45490196, 0.27058824, 0.35686275,\n",
       "        0.51372549, 0.62745098, 0.63921569, 0.60784314, 0.62352941,\n",
       "        0.63137255, 0.61568627, 0.61176471, 0.63137255, 0.63529412,\n",
       "        0.61568627, 0.63529412, 0.64705882, 0.63529412, 0.63529412,\n",
       "        0.65490196, 0.64705882, 0.64705882, 0.65882353, 0.63921569,\n",
       "        0.65490196, 0.63921569, 0.63921569],\n",
       "       [0.63529412, 0.59215686, 0.4627451 , 0.28627451, 0.30196078,\n",
       "        0.4745098 , 0.58431373, 0.62745098, 0.61960784, 0.61176471,\n",
       "        0.63529412, 0.61960784, 0.61568627, 0.63921569, 0.63137255,\n",
       "        0.65098039, 0.62745098, 0.64705882, 0.63137255, 0.64705882,\n",
       "        0.64313725, 0.65098039, 0.64313725, 0.65490196, 0.61176471,\n",
       "        0.61960784, 0.63921569, 0.65882353],\n",
       "       [0.65882353, 0.60784314, 0.49019608, 0.33333333, 0.24313725,\n",
       "        0.43137255, 0.55294118, 0.60784314, 0.61960784, 0.64705882,\n",
       "        0.64313725, 0.62352941, 0.62352941, 0.59215686, 0.62352941,\n",
       "        0.64313725, 0.64313725, 0.62745098, 0.63137255, 0.65098039,\n",
       "        0.65490196, 0.61176471, 0.64705882, 0.63921569, 0.63921569,\n",
       "        0.62352941, 0.65098039, 0.63529412],\n",
       "       [0.62745098, 0.61960784, 0.54901961, 0.38431373, 0.24313725,\n",
       "        0.4       , 0.52941176, 0.62745098, 0.63137255, 0.6       ,\n",
       "        0.61568627, 0.62745098, 0.64313725, 0.62745098, 0.64313725,\n",
       "        0.64313725, 0.62352941, 0.63137255, 0.63137255, 0.63921569,\n",
       "        0.64313725, 0.64313725, 0.63921569, 0.65098039, 0.64313725,\n",
       "        0.62745098, 0.64313725, 0.63137255],\n",
       "       [0.64705882, 0.63137255, 0.55686275, 0.43921569, 0.22352941,\n",
       "        0.31764706, 0.50196078, 0.59607843, 0.62745098, 0.62352941,\n",
       "        0.63921569, 0.64313725, 0.6       , 0.63921569, 0.60784314,\n",
       "        0.6       , 0.61176471, 0.56470588, 0.59607843, 0.60392157,\n",
       "        0.61960784, 0.62352941, 0.63921569, 0.62352941, 0.64313725,\n",
       "        0.64313725, 0.65490196, 0.64705882],\n",
       "       [0.65098039, 0.62745098, 0.60392157, 0.50980392, 0.27843137,\n",
       "        0.30588235, 0.40784314, 0.56470588, 0.61960784, 0.61176471,\n",
       "        0.62745098, 0.63529412, 0.61960784, 0.58823529, 0.50980392,\n",
       "        0.50588235, 0.44705882, 0.42745098, 0.47058824, 0.4745098 ,\n",
       "        0.51764706, 0.54901961, 0.56470588, 0.59607843, 0.60784314,\n",
       "        0.64705882, 0.63529412, 0.61568627],\n",
       "       [0.65098039, 0.64313725, 0.62745098, 0.54901961, 0.39607843,\n",
       "        0.24313725, 0.40784314, 0.5254902 , 0.61176471, 0.6       ,\n",
       "        0.63529412, 0.62352941, 0.55294118, 0.49803922, 0.45098039,\n",
       "        0.31764706, 0.22745098, 0.23137255, 0.2627451 , 0.29411765,\n",
       "        0.3372549 , 0.35686275, 0.42352941, 0.49803922, 0.56078431,\n",
       "        0.62745098, 0.63137255, 0.60784314],\n",
       "       [0.63921569, 0.63529412, 0.65098039, 0.57254902, 0.4       ,\n",
       "        0.25882353, 0.31372549, 0.45490196, 0.57254902, 0.63137255,\n",
       "        0.61176471, 0.55294118, 0.4627451 , 0.35686275, 0.23529412,\n",
       "        0.22745098, 0.27058824, 0.30588235, 0.27843137, 0.26666667,\n",
       "        0.24313725, 0.14117647, 0.21960784, 0.36862745, 0.4627451 ,\n",
       "        0.56078431, 0.60784314, 0.61568627],\n",
       "       [0.63529412, 0.62352941, 0.65098039, 0.60392157, 0.48235294,\n",
       "        0.34117647, 0.24705882, 0.34117647, 0.51764706, 0.58431373,\n",
       "        0.54509804, 0.45098039, 0.32156863, 0.21176471, 0.29803922,\n",
       "        0.38039216, 0.42352941, 0.47843137, 0.4627451 , 0.4745098 ,\n",
       "        0.41176471, 0.27843137, 0.21568627, 0.19215686, 0.36078431,\n",
       "        0.50196078, 0.58039216, 0.61568627],\n",
       "       [0.63921569, 0.61960784, 0.64313725, 0.61960784, 0.56078431,\n",
       "        0.4       , 0.18431373, 0.28235294, 0.41960784, 0.51764706,\n",
       "        0.43921569, 0.29411765, 0.21176471, 0.32941176, 0.40784314,\n",
       "        0.52941176, 0.56470588, 0.60392157, 0.61176471, 0.58431373,\n",
       "        0.51764706, 0.45490196, 0.3372549 , 0.19215686, 0.20784314,\n",
       "        0.38431373, 0.54117647, 0.63137255],\n",
       "       [0.63137255, 0.64313725, 0.64313725, 0.64705882, 0.61568627,\n",
       "        0.46666667, 0.27843137, 0.2       , 0.26666667, 0.30980392,\n",
       "        0.26666667, 0.19215686, 0.24313725, 0.4       , 0.53333333,\n",
       "        0.61568627, 0.62745098, 0.62352941, 0.61960784, 0.60392157,\n",
       "        0.61960784, 0.57647059, 0.47843137, 0.31372549, 0.17254902,\n",
       "        0.35294118, 0.53333333, 0.61960784],\n",
       "       [0.60392157, 0.62352941, 0.6       , 0.63529412, 0.62352941,\n",
       "        0.52941176, 0.37647059, 0.19607843, 0.18431373, 0.18823529,\n",
       "        0.16078431, 0.17254902, 0.3372549 , 0.48627451, 0.59607843,\n",
       "        0.63137255, 0.62745098, 0.61960784, 0.61176471, 0.61568627,\n",
       "        0.6       , 0.61568627, 0.5254902 , 0.36862745, 0.21960784,\n",
       "        0.33333333, 0.49019608, 0.60392157],\n",
       "       [0.64313725, 0.62745098, 0.63529412, 0.64705882, 0.63529412,\n",
       "        0.56470588, 0.43529412, 0.25490196, 0.18431373, 0.16862745,\n",
       "        0.13333333, 0.21568627, 0.39607843, 0.54509804, 0.61568627,\n",
       "        0.63137255, 0.62745098, 0.63529412, 0.60784314, 0.61960784,\n",
       "        0.61568627, 0.61960784, 0.56078431, 0.42745098, 0.23529412,\n",
       "        0.36862745, 0.50588235, 0.6       ],\n",
       "       [0.62745098, 0.63921569, 0.63137255, 0.63921569, 0.63529412,\n",
       "        0.62745098, 0.49411765, 0.36862745, 0.24705882, 0.17254902,\n",
       "        0.13333333, 0.18823529, 0.34117647, 0.50980392, 0.61568627,\n",
       "        0.6       , 0.62352941, 0.63137255, 0.61568627, 0.62745098,\n",
       "        0.59607843, 0.59215686, 0.49019608, 0.34901961, 0.27058824,\n",
       "        0.37647059, 0.51764706, 0.60392157],\n",
       "       [0.61960784, 0.65098039, 0.63529412, 0.61960784, 0.62352941,\n",
       "        0.63529412, 0.56470588, 0.4627451 , 0.27058824, 0.18431373,\n",
       "        0.14117647, 0.14901961, 0.27058824, 0.41176471, 0.47843137,\n",
       "        0.50196078, 0.54509804, 0.55686275, 0.58039216, 0.55294118,\n",
       "        0.53333333, 0.45098039, 0.34901961, 0.25490196, 0.32156863,\n",
       "        0.46666667, 0.56862745, 0.61568627],\n",
       "       [0.64313725, 0.62745098, 0.64705882, 0.62745098, 0.63529412,\n",
       "        0.64313725, 0.62352941, 0.52941176, 0.39215686, 0.21960784,\n",
       "        0.16862745, 0.15294118, 0.19215686, 0.23921569, 0.27843137,\n",
       "        0.38039216, 0.40392157, 0.44705882, 0.44705882, 0.41568627,\n",
       "        0.39607843, 0.29803922, 0.23137255, 0.28235294, 0.40784314,\n",
       "        0.52941176, 0.57254902, 0.63921569],\n",
       "       [0.62352941, 0.6       , 0.63137255, 0.62352941, 0.63137255,\n",
       "        0.62745098, 0.63137255, 0.55294118, 0.45882353, 0.3254902 ,\n",
       "        0.20392157, 0.19215686, 0.20392157, 0.20392157, 0.14117647,\n",
       "        0.17647059, 0.22352941, 0.24313725, 0.29019608, 0.25882353,\n",
       "        0.2       , 0.19607843, 0.28627451, 0.39215686, 0.50588235,\n",
       "        0.59607843, 0.62352941, 0.63529412],\n",
       "       [0.63921569, 0.64313725, 0.61960784, 0.61568627, 0.61960784,\n",
       "        0.63529412, 0.63921569, 0.61568627, 0.55686275, 0.45490196,\n",
       "        0.31764706, 0.26666667, 0.23529412, 0.20784314, 0.18039216,\n",
       "        0.17254902, 0.16862745, 0.1372549 , 0.11764706, 0.16078431,\n",
       "        0.23529412, 0.31764706, 0.39215686, 0.50588235, 0.58823529,\n",
       "        0.61176471, 0.60392157, 0.63921569],\n",
       "       [0.60784314, 0.60784314, 0.60784314, 0.63921569, 0.62352941,\n",
       "        0.63137255, 0.63529412, 0.63137255, 0.61568627, 0.52156863,\n",
       "        0.44313725, 0.36470588, 0.34117647, 0.30980392, 0.23137255,\n",
       "        0.21568627, 0.21176471, 0.23921569, 0.28627451, 0.3372549 ,\n",
       "        0.41960784, 0.42352941, 0.5372549 , 0.59607843, 0.62745098,\n",
       "        0.62352941, 0.63529412, 0.63137255],\n",
       "       [0.63137255, 0.61960784, 0.60392157, 0.57647059, 0.62745098,\n",
       "        0.61960784, 0.62745098, 0.61960784, 0.64705882, 0.58823529,\n",
       "        0.57254902, 0.48627451, 0.47058824, 0.41960784, 0.4       ,\n",
       "        0.38431373, 0.39607843, 0.40784314, 0.41176471, 0.48627451,\n",
       "        0.54509804, 0.56862745, 0.61960784, 0.58823529, 0.61176471,\n",
       "        0.60784314, 0.6       , 0.62745098],\n",
       "       [0.61568627, 0.61960784, 0.61568627, 0.6       , 0.65098039,\n",
       "        0.62352941, 0.62352941, 0.62352941, 0.61960784, 0.62352941,\n",
       "        0.61960784, 0.61960784, 0.56078431, 0.55294118, 0.53333333,\n",
       "        0.51372549, 0.5254902 , 0.57254902, 0.54901961, 0.59607843,\n",
       "        0.61568627, 0.61176471, 0.61568627, 0.63137255, 0.63921569,\n",
       "        0.62352941, 0.63921569, 0.61960784],\n",
       "       [0.63921569, 0.60392157, 0.62352941, 0.62352941, 0.63529412,\n",
       "        0.62352941, 0.61176471, 0.61176471, 0.60784314, 0.62745098,\n",
       "        0.60784314, 0.62745098, 0.61568627, 0.61960784, 0.59215686,\n",
       "        0.6       , 0.59607843, 0.61176471, 0.62352941, 0.61960784,\n",
       "        0.63137255, 0.63137255, 0.62745098, 0.61568627, 0.60392157,\n",
       "        0.60392157, 0.62352941, 0.63137255]])"
      ]
     },
     "execution_count": 126,
     "metadata": {},
     "output_type": "execute_result"
    }
   ],
   "source": [
    "x_input"
   ]
  },
  {
   "cell_type": "code",
   "execution_count": 127,
   "metadata": {},
   "outputs": [],
   "source": [
    "\n",
    "x_input = x_input.reshape(-1, 28,28,1)\n",
    "y_pred = model.predict(x_input)"
   ]
  },
  {
   "cell_type": "code",
   "execution_count": 128,
   "metadata": {},
   "outputs": [
    {
     "data": {
      "text/plain": [
       "6"
      ]
     },
     "execution_count": 128,
     "metadata": {},
     "output_type": "execute_result"
    }
   ],
   "source": [
    "y_pred[0].argmax()"
   ]
  },
  {
   "cell_type": "code",
   "execution_count": null,
   "metadata": {},
   "outputs": [],
   "source": []
  }
 ],
 "metadata": {
  "kernelspec": {
   "display_name": "Python 3",
   "language": "python",
   "name": "python3"
  },
  "language_info": {
   "codemirror_mode": {
    "name": "ipython",
    "version": 3
   },
   "file_extension": ".py",
   "mimetype": "text/x-python",
   "name": "python",
   "nbconvert_exporter": "python",
   "pygments_lexer": "ipython3",
   "version": "3.8.10"
  }
 },
 "nbformat": 4,
 "nbformat_minor": 4
}
